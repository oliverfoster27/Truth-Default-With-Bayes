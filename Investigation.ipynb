{
 "cells": [
  {
   "cell_type": "markdown",
   "metadata": {},
   "source": [
    "# Investigation\n",
    "- Assume the average person has an average posterior probability of discovering someone is lying\n",
    "- Reference: The Prevalence of Lying in America: Three Studies of Self-Reported Lies (Kim B. Serota, Timothy R. Levine, & Franklin J. Boster)\n",
    "    - (M = 1.65 lies per day, SD = 4.45, Mdn = 0, Mode = 0, N = 998, Max = 53 lies, 95% CI = 1.37–1.93)\n",
    "\n",
    "- Reference: http://liespotting.com/2010/06/10-research-findings-about-deception-that-will-blow-your-mind/\n",
    "    - We detect lies on average with 54% accuracy\n",
    "- If the average number of lies we tell per day is 1.65, then over an 8-hour window (roughly half the time we are awake in a day) the probability of being lied to by the average person in that interval is 1.65/2 = 0.825\n",
    "- If we can detect a lie at 54% accuracy, then the likelyhood of predicting a lie during this 8-hour window is 54% of 0.825 (0.4455)"
   ]
  },
  {
   "cell_type": "code",
   "execution_count": 100,
   "metadata": {},
   "outputs": [],
   "source": [
    "import scipy.stats\n",
    "import matplotlib.pyplot as plt\n",
    "import numpy as np\n",
    "import itertools\n",
    "import random"
   ]
  },
  {
   "cell_type": "code",
   "execution_count": 44,
   "metadata": {},
   "outputs": [],
   "source": [
    "def f2f_lie_freq(num_lies):\n",
    "    return 135.584 * (num_lies ** -1.301)"
   ]
  },
  {
   "cell_type": "code",
   "execution_count": 45,
   "metadata": {},
   "outputs": [],
   "source": [
    "# Of the 1000 Adults - 60% reported never lying\n",
    "lie_frequencies = [0.6*1000]\n",
    "for num_lies in itertools.count(1):\n",
    "    freq = f2f_lie_freq(num_lies)\n",
    "    if freq < 1:\n",
    "        break\n",
    "    lie_frequencies.append(freq)"
   ]
  },
  {
   "cell_type": "code",
   "execution_count": 46,
   "metadata": {},
   "outputs": [],
   "source": [
    "lie_frequencies = np.array(lie_frequencies)"
   ]
  },
  {
   "cell_type": "code",
   "execution_count": 47,
   "metadata": {},
   "outputs": [],
   "source": [
    "# Create the lie probability distribution function\n",
    "lie_pdf = lie_frequencies / lie_frequencies.sum()"
   ]
  },
  {
   "cell_type": "code",
   "execution_count": 50,
   "metadata": {},
   "outputs": [],
   "source": [
    "# Create the lie cumulative probability distribution function\n",
    "lie_cdf = lie_pdf.cumsum()"
   ]
  },
  {
   "cell_type": "code",
   "execution_count": 127,
   "metadata": {},
   "outputs": [],
   "source": [
    "def how_many_lies(cdf):\n",
    "    rand = random.random()\n",
    "    idx = min(set(range(len(cdf))) - set(np.where(cdf < rand)[0]))\n",
    "    return idx"
   ]
  },
  {
   "cell_type": "code",
   "execution_count": 187,
   "metadata": {},
   "outputs": [],
   "source": [
    "def catch_lie(p=0.54):\n",
    "    rand = random.random()\n",
    "    return rand < p"
   ]
  },
  {
   "cell_type": "code",
   "execution_count": 256,
   "metadata": {},
   "outputs": [],
   "source": [
    "lie_occurred, lie_caught = [], []\n",
    "for day in range(100_000):\n",
    "    daily_lies = how_many_lies(lie_cdf)\n",
    "    if daily_lies > 0:\n",
    "        lie_occurred.append(1)\n",
    "    else:\n",
    "        lie_occurred.append(0)\n",
    "    caught = False\n",
    "    for lie in range(daily_lies):\n",
    "        if catch_lie():\n",
    "            lie_caught.append(1)\n",
    "            caught = True\n",
    "            break\n",
    "    if not caught:\n",
    "        lie_caught.append(0)"
   ]
  },
  {
   "cell_type": "code",
   "execution_count": 257,
   "metadata": {},
   "outputs": [],
   "source": [
    "posterior_lie_probability = sum(lie_caught) / len(lie_caught)\n",
    "daily_lied_to_probability = sum(lie_occurred) / len(lie_occurred)"
   ]
  },
  {
   "cell_type": "code",
   "execution_count": 258,
   "metadata": {},
   "outputs": [
    {
     "data": {
      "text/plain": [
       "0.3135"
      ]
     },
     "execution_count": 258,
     "metadata": {},
     "output_type": "execute_result"
    }
   ],
   "source": [
    "posterior_lie_probability"
   ]
  },
  {
   "cell_type": "code",
   "execution_count": 259,
   "metadata": {},
   "outputs": [
    {
     "data": {
      "text/plain": [
       "0.39187"
      ]
     },
     "execution_count": 259,
     "metadata": {},
     "output_type": "execute_result"
    }
   ],
   "source": [
    "daily_lied_to_probability"
   ]
  },
  {
   "cell_type": "markdown",
   "metadata": {},
   "source": [
    "# Notes:\n",
    "- How to include false positive and false negatives on the 54% accuracy of predicting a liar? Find evidence of these rates in literature"
   ]
  },
  {
   "cell_type": "code",
   "execution_count": null,
   "metadata": {},
   "outputs": [],
   "source": []
  }
 ],
 "metadata": {
  "kernelspec": {
   "display_name": "Python 3",
   "language": "python",
   "name": "python3"
  },
  "language_info": {
   "codemirror_mode": {
    "name": "ipython",
    "version": 3
   },
   "file_extension": ".py",
   "mimetype": "text/x-python",
   "name": "python",
   "nbconvert_exporter": "python",
   "pygments_lexer": "ipython3",
   "version": "3.7.6"
  }
 },
 "nbformat": 4,
 "nbformat_minor": 4
}
